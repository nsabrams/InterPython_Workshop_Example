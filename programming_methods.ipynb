{
 "cells": [
  {
   "cell_type": "markdown",
   "id": "fa469220-ff5e-4bfc-bc22-5385c68573f0",
   "metadata": {},
   "source": [
    "Exploring various programming methods (see day 3)"
   ]
  },
  {
   "cell_type": "code",
   "execution_count": 166,
   "id": "75cea84e-9442-4ce3-a20c-bae06ab50f63",
   "metadata": {},
   "outputs": [],
   "source": [
    "import pandas as pd\n",
    "import pandas.testing as pdt\n",
    "import numpy as np\n",
    "import lcanalyzer.models as models\n",
    "from lcanalyzer import survey\n",
    "from functools import reduce\n",
    "import time\n",
    "import collections.abc"
   ]
  },
  {
   "cell_type": "markdown",
   "id": "11308faf-5931-4565-a5f4-f194ea8e2405",
   "metadata": {},
   "source": [
    "### Define Parameters"
   ]
  },
  {
   "cell_type": "code",
   "execution_count": 14,
   "id": "ce39ce2d-f892-4a12-9546-a69dfbd1cda0",
   "metadata": {},
   "outputs": [],
   "source": [
    "# Define the bands names\n",
    "bands = 'ugrizy'\n",
    "\n",
    "# Mag column\n",
    "mag_col = 'psfMag'\n",
    "\n",
    "# Time column\n",
    "time_col = 'expMidptMJD'"
   ]
  },
  {
   "cell_type": "markdown",
   "id": "fb93b895-f1a8-4e53-8b84-46f0e06a7ade",
   "metadata": {},
   "source": [
    "### Load in data"
   ]
  },
  {
   "cell_type": "code",
   "execution_count": 4,
   "id": "c7b0aa23-3891-4128-8349-460e39e80107",
   "metadata": {},
   "outputs": [],
   "source": [
    "lc_datasets = {}\n",
    "lc_datasets['lsst'] = pd.read_pickle('data/lsst_RRLyr.pkl')"
   ]
  },
  {
   "cell_type": "code",
   "execution_count": 66,
   "id": "342b23f3-42dc-445f-98f7-d47593dd0f94",
   "metadata": {},
   "outputs": [],
   "source": [
    "# Create an empty list where we will be storing our light curves\n",
    "lcs = []\n",
    "# For each observed object\n",
    "for obj_id in lc_datasets[\"lsst\"][\"objectId\"].unique():\n",
    "    # Create an empty dict for the light curves of this object\n",
    "    lc = {}\n",
    "    lc['objectId'] = obj_id\n",
    "    for b in bands:\n",
    "        filt_band_obj = (lc_datasets[\"lsst\"][\"objectId\"] == obj_id) & (\n",
    "            lc_datasets[\"lsst\"][\"band\"] == b\n",
    "        )\n",
    "        # The observations in each band are converted to lists and stored as dict elements\n",
    "        lc[b+'_'+mag_col] = np.array(lc_datasets[\"lsst\"][filt_band_obj][mag_col])\n",
    "        lc[b+'_'+time_col] = np.array(lc_datasets[\"lsst\"][filt_band_obj][time_col])\n",
    "    lcs.append(lc)\n",
    "# Turn the list of dicts into a DataFrame    \n",
    "lcs = pd.DataFrame.from_records(lcs)"
   ]
  },
  {
   "cell_type": "markdown",
   "id": "87478755-822c-4563-b06f-86484ff8a070",
   "metadata": {},
   "source": [
    "### Process Nans"
   ]
  },
  {
   "cell_type": "code",
   "execution_count": 67,
   "id": "32590b28-36f1-474a-9a52-64704b7ef64f",
   "metadata": {},
   "outputs": [],
   "source": [
    "def lightcurve_nans2zero(lcs, bands):\n",
    "    for b in bands:\n",
    "        lcs['cleaned_{}_psfMag'.format(b)] = lcs['{}_psfMag'.format(b)].map(lambda x: np.where(np.isnan(x),0,x))\n",
    "    return lcs"
   ]
  },
  {
   "cell_type": "code",
   "execution_count": 79,
   "id": "97973394-dc6d-4118-b499-6696ef0fda3c",
   "metadata": {},
   "outputs": [],
   "source": [
    "def lightcurve_remove_nans(lcs, bands):\n",
    "    for b in bands:\n",
    "        lcs['removed_nans_{}_psfMag'.format(b)] = lcs['{}_psfMag'.format(b)].map(lambda x: np.delete(x, np.where(np.isnan(x))))\n",
    "        lcs['removed_nans_{}_expMidptMJD'.format(b)] = lcs['{}_psfMag'.format(b)].map(lambda x: np.delete(x, np.where(np.isnan(x))))\n",
    "    return lcs"
   ]
  },
  {
   "cell_type": "code",
   "execution_count": 68,
   "id": "a257c8cf-ac15-4ffa-902f-cb154c117b9b",
   "metadata": {},
   "outputs": [],
   "source": [
    "lcs_nan2zero = lightcurve_nans2zero(lcs, bands)"
   ]
  },
  {
   "cell_type": "code",
   "execution_count": 80,
   "id": "871e80cb-3228-4131-a9a1-e86d1b16cb84",
   "metadata": {},
   "outputs": [],
   "source": [
    "lcs_removed_nans = lightcurve_remove_nans(lcs, bands)"
   ]
  },
  {
   "cell_type": "code",
   "execution_count": 87,
   "id": "510997b6-b9b1-4c59-ba2c-cb32dde1a9eb",
   "metadata": {},
   "outputs": [],
   "source": [
    "def lightcurve_remove_nans_instructor_solution(lcs,bands, mag_col, time_col):\n",
    "    for b in bands:\n",
    "        # Create column names variables for better readability\n",
    "        mcol = b + \"_\" + mag_col\n",
    "        tcol = b + \"_\" + time_col\n",
    "        mcol_cl = mcol + \"_cleaned\"\n",
    "        tcol_cl = tcol + \"_cleaned\"\n",
    "        # The new cleaned columns, `mcol_cl` and `tcol_cl`, contain the result of applying\n",
    "        # a lambda function to each row (`axis=1` argument). The lambda function returns a tuple\n",
    "        # of two numpy arrays, filtered according to the mask that is `False` for the elements that\n",
    "        # are NaNs and `True` to all other elements.\n",
    "        lcs[[mcol_cl, tcol_cl]] = lcs.apply(\n",
    "            lambda l: (\n",
    "                l[mcol][~np.isnan(l[mcol])],\n",
    "                l[tcol][~np.isnan(l[mcol])],\n",
    "            ),\n",
    "            axis=1,\n",
    "            result_type=\"expand\",\n",
    "        )\n",
    "    return lcs"
   ]
  },
  {
   "cell_type": "code",
   "execution_count": 85,
   "id": "a11a7388-4d1f-4761-ac95-80a7a180c8be",
   "metadata": {},
   "outputs": [
    {
     "name": "stdout",
     "output_type": "stream",
     "text": [
      "39\n",
      "39\n",
      "39\n",
      "24\n",
      "24\n"
     ]
    }
   ],
   "source": [
    "print(len(lcs_removed_nans['u_psfMag'][0]))\n",
    "print(len(lcs_removed_nans['u_expMidptMJD'][0]))\n",
    "print(len(lcs_removed_nans['cleaned_u_psfMag'][0]))\n",
    "print(len(lcs_removed_nans['removed_nans_u_psfMag'][0]))\n",
    "print(len(lcs_removed_nans['removed_nans_u_expMidptMJD'][0]))\n"
   ]
  },
  {
   "cell_type": "markdown",
   "id": "1f55da21-d513-4fed-9db8-635cb2745d30",
   "metadata": {},
   "source": [
    "### Practice Reduce"
   ]
  },
  {
   "cell_type": "code",
   "execution_count": 93,
   "id": "e35f0391-4eb2-4b54-9960-bf4cb6ccc953",
   "metadata": {},
   "outputs": [],
   "source": [
    "sequence = np.arange(1, 5)"
   ]
  },
  {
   "cell_type": "code",
   "execution_count": 94,
   "id": "d629af37-5751-4573-a810-5f2b15c066a5",
   "metadata": {},
   "outputs": [
    {
     "data": {
      "text/plain": [
       "10"
      ]
     },
     "execution_count": 94,
     "metadata": {},
     "output_type": "execute_result"
    }
   ],
   "source": [
    "reduce((lambda a, b : a + b), sequence)"
   ]
  },
  {
   "cell_type": "markdown",
   "id": "5d077472-c26a-43c0-affc-78a5e0ca0b8f",
   "metadata": {},
   "source": [
    "### Time performance decorator"
   ]
  },
  {
   "cell_type": "code",
   "execution_count": 124,
   "id": "b5842bae-6515-4fb7-8fb7-578e52291ca0",
   "metadata": {},
   "outputs": [],
   "source": [
    "def time_performance(func):\n",
    "    \n",
    "    def inner(*args, **kwargs):\n",
    "        start = time.process_time_ns()\n",
    "        result = func(*args, **kwargs)\n",
    "        time_took = (time.process_time_ns() - start)/1e9\n",
    "        \n",
    "        print(\"Took {} seconds\".format(time_took))\n",
    "        return result\n",
    "        \n",
    "    return inner"
   ]
  },
  {
   "cell_type": "code",
   "execution_count": 125,
   "id": "773aef9a-5adf-4aaa-99b6-3e2be3310ce9",
   "metadata": {},
   "outputs": [],
   "source": [
    "@time_performance\n",
    "def measure_me(n):\n",
    "    total = 0\n",
    "    for i in range(n):\n",
    "        total += i * i\n",
    "\n",
    "    return total"
   ]
  },
  {
   "cell_type": "code",
   "execution_count": 126,
   "id": "574c893d-08fa-4ae9-850d-1cee45b3bcb0",
   "metadata": {},
   "outputs": [
    {
     "name": "stdout",
     "output_type": "stream",
     "text": [
      "Took 7e-06 seconds\n"
     ]
    },
    {
     "data": {
      "text/plain": [
       "285"
      ]
     },
     "execution_count": 126,
     "metadata": {},
     "output_type": "execute_result"
    }
   ],
   "source": [
    "\n",
    "measure_me(10)"
   ]
  },
  {
   "cell_type": "code",
   "execution_count": 164,
   "id": "13d3d053-09eb-4e3c-9422-1d553b02c00c",
   "metadata": {},
   "outputs": [],
   "source": [
    "class Variable:\n",
    "    \"\"\"A Variable class\"\"\"\n",
    "    def __init__(self, obj_id):\n",
    "        self.obj_id = obj_id\n",
    "        self.lc = {\n",
    "                   'mjd': np.array([]),\n",
    "                   'mag': np.array([])\n",
    "                  }\n",
    "\n",
    "    def __str__(self):\n",
    "      return str(self.obj_id)\n",
    "\n",
    "    def add_observations(self, mjds, mags, mag_errs=None):\n",
    "        \"\"\"\n",
    "        Adds observations to the light curve.\n",
    "    \n",
    "        Args:\n",
    "          mjds: A vector of Modified Julian Dates (x values).\n",
    "          mags: A vector of luminosities (y values).\n",
    "        \"\"\"\n",
    "\n",
    "        self.convert_to_array(mjds)\n",
    "        self.convert_to_array(mags)\n",
    "        \n",
    "        observation_arrays = [mjds, mags]\n",
    "        \n",
    "        self.lc['mjd'] = np.array(mjds)\n",
    "        self.lc['mag'] = np.array(mags)\n",
    "        if mag_errs is not None:\n",
    "            self.convert_to_array(mag_errs)\n",
    "            observation_arrays.append(mag_errs)\n",
    "            self.lc['mag_errs'] = np.array(mag_errs)\n",
    "\n",
    "        self.compare_len(observation_arrays)\n",
    "\n",
    "        return\n",
    "\n",
    "    def __len__(self):\n",
    "        \"\"\"\n",
    "        Returns length of lightcurve\n",
    "        \"\"\"\n",
    "        return len(self.lc['mjd'])\n",
    "\n",
    "\n",
    "    def convert_to_array(self, var):\n",
    "        if not isinstance(var, np.ndarray):\n",
    "            if isinstance(var, (list, tuple, pd.Series)):\n",
    "                var = np.array(var)\n",
    "            elif isinstance(var, (int, float)):\n",
    "                var = np.array([var])\n",
    "            else:\n",
    "               raise ValueError(\"Data must be array-like, int, or float\")\n",
    "\n",
    "        return var\n",
    "\n",
    "    def compare_len(self, arrays):\n",
    "        for array in arrays:\n",
    "            if len(array) != self.__len__():\n",
    "                raise Exception(\"All observational arrays must have the same length\")\n",
    "                \n",
    "    @property\n",
    "    def mean_mag(self):\n",
    "        return np.mean(self.lc['mags'])"
   ]
  },
  {
   "cell_type": "code",
   "execution_count": 165,
   "id": "e3b42e21-a775-4e10-a6ac-61d7064fb73f",
   "metadata": {},
   "outputs": [
    {
     "name": "stdout",
     "output_type": "stream",
     "text": [
      "44\n"
     ]
    }
   ],
   "source": [
    "obj_id = lc_datasets['lsst']['objectId'].unique()[7]\n",
    "b = 'g'\n",
    "filt_band_obj = (lc_datasets['lsst']['objectId'] == obj_id) & (\n",
    "        lc_datasets['lsst']['band'] == b\n",
    "    )\n",
    "obj_obs = lc_datasets['lsst'][filt_band_obj]\n",
    "star = Variable(obj_id)\n",
    "star.add_observations(obj_obs[time_col],obj_obs[mag_col])\n",
    "print(star.__len__())"
   ]
  },
  {
   "cell_type": "code",
   "execution_count": 161,
   "id": "ea826caf-5e1a-4a08-a141-0d7939e23f71",
   "metadata": {},
   "outputs": [],
   "source": [
    "star.compare_len([star.lc['mjd'], star.lc['mag']])"
   ]
  },
  {
   "cell_type": "code",
   "execution_count": 145,
   "id": "a01a6850-3ba4-4cbe-a239-4c1047e0fc3f",
   "metadata": {},
   "outputs": [
    {
     "data": {
      "text/plain": [
       "False"
      ]
     },
     "execution_count": 145,
     "metadata": {},
     "output_type": "execute_result"
    }
   ],
   "source": [
    "isinstance(obj_obs[mag_col], pd.core.series.Series)"
   ]
  },
  {
   "cell_type": "markdown",
   "id": "9bb2d57c-841e-4e9d-b6b5-8bbc90bf657c",
   "metadata": {},
   "source": [
    "### Practicing Object Oriented Programming"
   ]
  },
  {
   "cell_type": "code",
   "execution_count": 174,
   "id": "54a7486b-cf15-47c3-9ae2-1238603cc616",
   "metadata": {},
   "outputs": [
    {
     "data": {
      "text/plain": [
       "<module 'lcanalyzer.survey' from '/Users/nsabrams/Documents/RubinScience/IntermediatePython/InterPython_Workshop_Example/lcanalyzer/survey.py'>"
      ]
     },
     "execution_count": 174,
     "metadata": {},
     "output_type": "execute_result"
    }
   ],
   "source": [
    "import importlib\n",
    "importlib.reload(survey)"
   ]
  },
  {
   "cell_type": "code",
   "execution_count": 175,
   "id": "f11d9d5e-c249-4594-8195-7ecb7d111e50",
   "metadata": {},
   "outputs": [],
   "source": [
    "survey_test = survey.Survey('data/lsst_RRLyr.pkl')"
   ]
  },
  {
   "cell_type": "code",
   "execution_count": 176,
   "id": "41b87625-0e58-405c-9b28-464c39ee2360",
   "metadata": {},
   "outputs": [
    {
     "data": {
      "text/plain": [
       "{'mjd': array([60582.2471442, 60261.0782212, 61322.1785842, 60582.2776822,\n",
       "        60261.0777762, 60731.0440582, 60613.1148232, 60673.1041662,\n",
       "        60582.2695892, 61321.1909252, 59904.0842892, 60613.1327722,\n",
       "        61321.1752202, 61321.1747752, 60998.0695872, 61297.2892992,\n",
       "        61322.1869182, 60585.2017922, 60970.1382022, 60261.0786692,\n",
       "        60557.2808162, 61322.1790312, 60998.0700362, 60970.1579432,\n",
       "        59819.2946332, 61297.2830082, 59874.2225572, 59818.3869242,\n",
       "        60970.1583922, 59851.2883982, 59584.1123332, 61297.2834572,\n",
       "        60702.1126702, 60585.2004502, 61322.1864712, 60200.2522912,\n",
       "        60998.0686642, 61380.1195292, 60731.0534842]),\n",
       " 'mag': array([25.7412109 , 24.94350022,         nan,         nan, 25.5851343 ,\n",
       "                nan, 27.54439979, 25.06830723, 27.25449578,         nan,\n",
       "                nan, 28.2117262 , 25.42959483, 25.01922754, 25.46825047,\n",
       "                nan, 25.1103313 , 25.42262994,         nan,         nan,\n",
       "        25.40161976,         nan, 26.4729732 , 26.01963561,         nan,\n",
       "        27.78328155, 25.66364705, 26.18250224, 25.75900134, 25.63941971,\n",
       "                nan,         nan,         nan,         nan, 26.43934652,\n",
       "        25.21707121,         nan, 27.24822239, 25.74622327])}"
      ]
     },
     "execution_count": 176,
     "metadata": {},
     "output_type": "execute_result"
    }
   ],
   "source": [
    "survey_test.get_lc(1251384969897480052, 'u')"
   ]
  },
  {
   "cell_type": "code",
   "execution_count": 177,
   "id": "f19a46a2-7b09-40a5-91bc-32d260ae4317",
   "metadata": {},
   "outputs": [
    {
     "data": {
      "text/html": [
       "<div>\n",
       "<style scoped>\n",
       "    .dataframe tbody tr th:only-of-type {\n",
       "        vertical-align: middle;\n",
       "    }\n",
       "\n",
       "    .dataframe tbody tr th {\n",
       "        vertical-align: top;\n",
       "    }\n",
       "\n",
       "    .dataframe thead th {\n",
       "        text-align: right;\n",
       "    }\n",
       "</style>\n",
       "<table border=\"1\" class=\"dataframe\">\n",
       "  <thead>\n",
       "    <tr style=\"text-align: right;\">\n",
       "      <th></th>\n",
       "      <th>band</th>\n",
       "      <th>ccdVisitId</th>\n",
       "      <th>coord_ra</th>\n",
       "      <th>coord_dec</th>\n",
       "      <th>objectId</th>\n",
       "      <th>psfFlux</th>\n",
       "      <th>psfFluxErr</th>\n",
       "      <th>psfMag</th>\n",
       "      <th>ccdVisitId2</th>\n",
       "      <th>band2</th>\n",
       "      <th>expMidptMJD</th>\n",
       "      <th>zeroPoint</th>\n",
       "    </tr>\n",
       "  </thead>\n",
       "  <tbody>\n",
       "    <tr>\n",
       "      <th>0</th>\n",
       "      <td>y</td>\n",
       "      <td>1032263018</td>\n",
       "      <td>62.462569</td>\n",
       "      <td>-44.113360</td>\n",
       "      <td>1251384969897480052</td>\n",
       "      <td>-515.183603</td>\n",
       "      <td>1697.218490</td>\n",
       "      <td>NaN</td>\n",
       "      <td>1032263018</td>\n",
       "      <td>y</td>\n",
       "      <td>61100.069706</td>\n",
       "      <td>30.602301</td>\n",
       "    </tr>\n",
       "    <tr>\n",
       "      <th>1</th>\n",
       "      <td>y</td>\n",
       "      <td>1033987172</td>\n",
       "      <td>62.462569</td>\n",
       "      <td>-44.113360</td>\n",
       "      <td>1251384969897480052</td>\n",
       "      <td>3151.738459</td>\n",
       "      <td>1686.955775</td>\n",
       "      <td>22.653625</td>\n",
       "      <td>1033987172</td>\n",
       "      <td>y</td>\n",
       "      <td>61102.068464</td>\n",
       "      <td>30.606100</td>\n",
       "    </tr>\n",
       "    <tr>\n",
       "      <th>2</th>\n",
       "      <td>u</td>\n",
       "      <td>675163080</td>\n",
       "      <td>62.462569</td>\n",
       "      <td>-44.113360</td>\n",
       "      <td>1251384969897480052</td>\n",
       "      <td>183.449123</td>\n",
       "      <td>209.242045</td>\n",
       "      <td>25.741211</td>\n",
       "      <td>675163080</td>\n",
       "      <td>u</td>\n",
       "      <td>60582.247144</td>\n",
       "      <td>30.469101</td>\n",
       "    </tr>\n",
       "    <tr>\n",
       "      <th>3</th>\n",
       "      <td>y</td>\n",
       "      <td>443055067</td>\n",
       "      <td>62.462569</td>\n",
       "      <td>-44.113360</td>\n",
       "      <td>1251384969897480052</td>\n",
       "      <td>-704.848327</td>\n",
       "      <td>1624.400086</td>\n",
       "      <td>NaN</td>\n",
       "      <td>443055067</td>\n",
       "      <td>y</td>\n",
       "      <td>60215.203585</td>\n",
       "      <td>30.612801</td>\n",
       "    </tr>\n",
       "    <tr>\n",
       "      <th>4</th>\n",
       "      <td>u</td>\n",
       "      <td>466722002</td>\n",
       "      <td>62.462569</td>\n",
       "      <td>-44.113360</td>\n",
       "      <td>1251384969897480052</td>\n",
       "      <td>382.472233</td>\n",
       "      <td>278.926670</td>\n",
       "      <td>24.943500</td>\n",
       "      <td>466722002</td>\n",
       "      <td>u</td>\n",
       "      <td>60261.078221</td>\n",
       "      <td>30.461201</td>\n",
       "    </tr>\n",
       "    <tr>\n",
       "      <th>...</th>\n",
       "      <td>...</td>\n",
       "      <td>...</td>\n",
       "      <td>...</td>\n",
       "      <td>...</td>\n",
       "      <td>...</td>\n",
       "      <td>...</td>\n",
       "      <td>...</td>\n",
       "      <td>...</td>\n",
       "      <td>...</td>\n",
       "      <td>...</td>\n",
       "      <td>...</td>\n",
       "      <td>...</td>\n",
       "    </tr>\n",
       "    <tr>\n",
       "      <th>11172</th>\n",
       "      <td>i</td>\n",
       "      <td>428582024</td>\n",
       "      <td>66.267960</td>\n",
       "      <td>-27.741765</td>\n",
       "      <td>2185793931646635508</td>\n",
       "      <td>544023.409292</td>\n",
       "      <td>922.343038</td>\n",
       "      <td>17.060956</td>\n",
       "      <td>428582024</td>\n",
       "      <td>i</td>\n",
       "      <td>60193.365488</td>\n",
       "      <td>31.846800</td>\n",
       "    </tr>\n",
       "    <tr>\n",
       "      <th>11173</th>\n",
       "      <td>i</td>\n",
       "      <td>1173720158</td>\n",
       "      <td>66.267960</td>\n",
       "      <td>-27.741765</td>\n",
       "      <td>2185793931646635508</td>\n",
       "      <td>393272.358975</td>\n",
       "      <td>768.388803</td>\n",
       "      <td>17.413266</td>\n",
       "      <td>1173720158</td>\n",
       "      <td>i</td>\n",
       "      <td>61305.324734</td>\n",
       "      <td>31.849400</td>\n",
       "    </tr>\n",
       "    <tr>\n",
       "      <th>11174</th>\n",
       "      <td>i</td>\n",
       "      <td>1173719142</td>\n",
       "      <td>66.267960</td>\n",
       "      <td>-27.741765</td>\n",
       "      <td>2185793931646635508</td>\n",
       "      <td>342286.052877</td>\n",
       "      <td>720.070098</td>\n",
       "      <td>17.564027</td>\n",
       "      <td>1173719142</td>\n",
       "      <td>i</td>\n",
       "      <td>61305.324286</td>\n",
       "      <td>31.846701</td>\n",
       "    </tr>\n",
       "    <tr>\n",
       "      <th>11175</th>\n",
       "      <td>i</td>\n",
       "      <td>238057099</td>\n",
       "      <td>66.267960</td>\n",
       "      <td>-27.741765</td>\n",
       "      <td>2185793931646635508</td>\n",
       "      <td>547265.490786</td>\n",
       "      <td>910.999082</td>\n",
       "      <td>17.054505</td>\n",
       "      <td>238057099</td>\n",
       "      <td>i</td>\n",
       "      <td>59908.119769</td>\n",
       "      <td>31.843300</td>\n",
       "    </tr>\n",
       "    <tr>\n",
       "      <th>11176</th>\n",
       "      <td>i</td>\n",
       "      <td>238070159</td>\n",
       "      <td>66.267960</td>\n",
       "      <td>-27.741765</td>\n",
       "      <td>2185793931646635508</td>\n",
       "      <td>12218.856010</td>\n",
       "      <td>291.829070</td>\n",
       "      <td>21.182424</td>\n",
       "      <td>238070159</td>\n",
       "      <td>i</td>\n",
       "      <td>59908.126045</td>\n",
       "      <td>31.838100</td>\n",
       "    </tr>\n",
       "  </tbody>\n",
       "</table>\n",
       "<p>11177 rows × 12 columns</p>\n",
       "</div>"
      ],
      "text/plain": [
       "      band  ccdVisitId   coord_ra  coord_dec             objectId  \\\n",
       "0        y  1032263018  62.462569 -44.113360  1251384969897480052   \n",
       "1        y  1033987172  62.462569 -44.113360  1251384969897480052   \n",
       "2        u   675163080  62.462569 -44.113360  1251384969897480052   \n",
       "3        y   443055067  62.462569 -44.113360  1251384969897480052   \n",
       "4        u   466722002  62.462569 -44.113360  1251384969897480052   \n",
       "...    ...         ...        ...        ...                  ...   \n",
       "11172    i   428582024  66.267960 -27.741765  2185793931646635508   \n",
       "11173    i  1173720158  66.267960 -27.741765  2185793931646635508   \n",
       "11174    i  1173719142  66.267960 -27.741765  2185793931646635508   \n",
       "11175    i   238057099  66.267960 -27.741765  2185793931646635508   \n",
       "11176    i   238070159  66.267960 -27.741765  2185793931646635508   \n",
       "\n",
       "             psfFlux   psfFluxErr     psfMag  ccdVisitId2 band2   expMidptMJD  \\\n",
       "0        -515.183603  1697.218490        NaN   1032263018     y  61100.069706   \n",
       "1        3151.738459  1686.955775  22.653625   1033987172     y  61102.068464   \n",
       "2         183.449123   209.242045  25.741211    675163080     u  60582.247144   \n",
       "3        -704.848327  1624.400086        NaN    443055067     y  60215.203585   \n",
       "4         382.472233   278.926670  24.943500    466722002     u  60261.078221   \n",
       "...              ...          ...        ...          ...   ...           ...   \n",
       "11172  544023.409292   922.343038  17.060956    428582024     i  60193.365488   \n",
       "11173  393272.358975   768.388803  17.413266   1173720158     i  61305.324734   \n",
       "11174  342286.052877   720.070098  17.564027   1173719142     i  61305.324286   \n",
       "11175  547265.490786   910.999082  17.054505    238057099     i  59908.119769   \n",
       "11176   12218.856010   291.829070  21.182424    238070159     i  59908.126045   \n",
       "\n",
       "       zeroPoint  \n",
       "0      30.602301  \n",
       "1      30.606100  \n",
       "2      30.469101  \n",
       "3      30.612801  \n",
       "4      30.461201  \n",
       "...          ...  \n",
       "11172  31.846800  \n",
       "11173  31.849400  \n",
       "11174  31.846701  \n",
       "11175  31.843300  \n",
       "11176  31.838100  \n",
       "\n",
       "[11177 rows x 12 columns]"
      ]
     },
     "execution_count": 177,
     "metadata": {},
     "output_type": "execute_result"
    }
   ],
   "source": [
    "survey_test.data"
   ]
  },
  {
   "cell_type": "code",
   "execution_count": null,
   "id": "236b6443-dd09-42f1-9736-ee40a0c5d700",
   "metadata": {},
   "outputs": [],
   "source": []
  }
 ],
 "metadata": {
  "kernelspec": {
   "display_name": "Python 3 (ipykernel)",
   "language": "python",
   "name": "python3"
  },
  "language_info": {
   "codemirror_mode": {
    "name": "ipython",
    "version": 3
   },
   "file_extension": ".py",
   "mimetype": "text/x-python",
   "name": "python",
   "nbconvert_exporter": "python",
   "pygments_lexer": "ipython3",
   "version": "3.8.8"
  }
 },
 "nbformat": 4,
 "nbformat_minor": 5
}
