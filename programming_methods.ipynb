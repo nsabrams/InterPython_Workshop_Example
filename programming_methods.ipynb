{
 "cells": [
  {
   "cell_type": "markdown",
   "id": "fa469220-ff5e-4bfc-bc22-5385c68573f0",
   "metadata": {},
   "source": [
    "Exploring various programming methods (see day 3)"
   ]
  },
  {
   "cell_type": "code",
   "execution_count": 32,
   "id": "75cea84e-9442-4ce3-a20c-bae06ab50f63",
   "metadata": {},
   "outputs": [],
   "source": [
    "import pandas as pd\n",
    "import pandas.testing as pdt\n",
    "import numpy as np\n",
    "import lcanalyzer.models as models\n",
    "from lcanalyzer import survey, plots\n",
    "from functools import reduce\n",
    "import time\n",
    "import collections.abc"
   ]
  },
  {
   "cell_type": "markdown",
   "id": "11308faf-5931-4565-a5f4-f194ea8e2405",
   "metadata": {},
   "source": [
    "### Define Parameters"
   ]
  },
  {
   "cell_type": "code",
   "execution_count": 2,
   "id": "ce39ce2d-f892-4a12-9546-a69dfbd1cda0",
   "metadata": {},
   "outputs": [],
   "source": [
    "# Define the bands names\n",
    "bands = 'ugrizy'\n",
    "\n",
    "# Mag column\n",
    "mag_col = 'psfMag'\n",
    "\n",
    "# Time column\n",
    "time_col = 'expMidptMJD'"
   ]
  },
  {
   "cell_type": "markdown",
   "id": "fb93b895-f1a8-4e53-8b84-46f0e06a7ade",
   "metadata": {},
   "source": [
    "### Load in data"
   ]
  },
  {
   "cell_type": "code",
   "execution_count": 3,
   "id": "c7b0aa23-3891-4128-8349-460e39e80107",
   "metadata": {},
   "outputs": [],
   "source": [
    "lc_datasets = {}\n",
    "lc_datasets['lsst'] = pd.read_pickle('data/lsst_RRLyr.pkl')"
   ]
  },
  {
   "cell_type": "code",
   "execution_count": 4,
   "id": "342b23f3-42dc-445f-98f7-d47593dd0f94",
   "metadata": {},
   "outputs": [],
   "source": [
    "# Create an empty list where we will be storing our light curves\n",
    "lcs = []\n",
    "# For each observed object\n",
    "for obj_id in lc_datasets[\"lsst\"][\"objectId\"].unique():\n",
    "    # Create an empty dict for the light curves of this object\n",
    "    lc = {}\n",
    "    lc['objectId'] = obj_id\n",
    "    for b in bands:\n",
    "        filt_band_obj = (lc_datasets[\"lsst\"][\"objectId\"] == obj_id) & (\n",
    "            lc_datasets[\"lsst\"][\"band\"] == b\n",
    "        )\n",
    "        # The observations in each band are converted to lists and stored as dict elements\n",
    "        lc[b+'_'+mag_col] = np.array(lc_datasets[\"lsst\"][filt_band_obj][mag_col])\n",
    "        lc[b+'_'+time_col] = np.array(lc_datasets[\"lsst\"][filt_band_obj][time_col])\n",
    "    lcs.append(lc)\n",
    "# Turn the list of dicts into a DataFrame    \n",
    "lcs = pd.DataFrame.from_records(lcs)"
   ]
  },
  {
   "cell_type": "markdown",
   "id": "87478755-822c-4563-b06f-86484ff8a070",
   "metadata": {},
   "source": [
    "### Process Nans"
   ]
  },
  {
   "cell_type": "code",
   "execution_count": 5,
   "id": "32590b28-36f1-474a-9a52-64704b7ef64f",
   "metadata": {},
   "outputs": [],
   "source": [
    "def lightcurve_nans2zero(lcs, bands):\n",
    "    for b in bands:\n",
    "        lcs['cleaned_{}_psfMag'.format(b)] = lcs['{}_psfMag'.format(b)].map(lambda x: np.where(np.isnan(x),0,x))\n",
    "    return lcs"
   ]
  },
  {
   "cell_type": "code",
   "execution_count": 6,
   "id": "97973394-dc6d-4118-b499-6696ef0fda3c",
   "metadata": {},
   "outputs": [],
   "source": [
    "def lightcurve_remove_nans(lcs, bands):\n",
    "    for b in bands:\n",
    "        lcs['removed_nans_{}_psfMag'.format(b)] = lcs['{}_psfMag'.format(b)].map(lambda x: np.delete(x, np.where(np.isnan(x))))\n",
    "        lcs['removed_nans_{}_expMidptMJD'.format(b)] = lcs['{}_psfMag'.format(b)].map(lambda x: np.delete(x, np.where(np.isnan(x))))\n",
    "    return lcs"
   ]
  },
  {
   "cell_type": "code",
   "execution_count": 7,
   "id": "a257c8cf-ac15-4ffa-902f-cb154c117b9b",
   "metadata": {},
   "outputs": [],
   "source": [
    "lcs_nan2zero = lightcurve_nans2zero(lcs, bands)"
   ]
  },
  {
   "cell_type": "code",
   "execution_count": 8,
   "id": "871e80cb-3228-4131-a9a1-e86d1b16cb84",
   "metadata": {},
   "outputs": [],
   "source": [
    "lcs_removed_nans = lightcurve_remove_nans(lcs, bands)"
   ]
  },
  {
   "cell_type": "code",
   "execution_count": 9,
   "id": "510997b6-b9b1-4c59-ba2c-cb32dde1a9eb",
   "metadata": {},
   "outputs": [],
   "source": [
    "def lightcurve_remove_nans_instructor_solution(lcs,bands, mag_col, time_col):\n",
    "    for b in bands:\n",
    "        # Create column names variables for better readability\n",
    "        mcol = b + \"_\" + mag_col\n",
    "        tcol = b + \"_\" + time_col\n",
    "        mcol_cl = mcol + \"_cleaned\"\n",
    "        tcol_cl = tcol + \"_cleaned\"\n",
    "        # The new cleaned columns, `mcol_cl` and `tcol_cl`, contain the result of applying\n",
    "        # a lambda function to each row (`axis=1` argument). The lambda function returns a tuple\n",
    "        # of two numpy arrays, filtered according to the mask that is `False` for the elements that\n",
    "        # are NaNs and `True` to all other elements.\n",
    "        lcs[[mcol_cl, tcol_cl]] = lcs.apply(\n",
    "            lambda l: (\n",
    "                l[mcol][~np.isnan(l[mcol])],\n",
    "                l[tcol][~np.isnan(l[mcol])],\n",
    "            ),\n",
    "            axis=1,\n",
    "            result_type=\"expand\",\n",
    "        )\n",
    "    return lcs"
   ]
  },
  {
   "cell_type": "code",
   "execution_count": 10,
   "id": "a11a7388-4d1f-4761-ac95-80a7a180c8be",
   "metadata": {},
   "outputs": [
    {
     "name": "stdout",
     "output_type": "stream",
     "text": [
      "39\n",
      "39\n",
      "39\n",
      "24\n",
      "24\n"
     ]
    }
   ],
   "source": [
    "print(len(lcs_removed_nans['u_psfMag'][0]))\n",
    "print(len(lcs_removed_nans['u_expMidptMJD'][0]))\n",
    "print(len(lcs_removed_nans['cleaned_u_psfMag'][0]))\n",
    "print(len(lcs_removed_nans['removed_nans_u_psfMag'][0]))\n",
    "print(len(lcs_removed_nans['removed_nans_u_expMidptMJD'][0]))\n"
   ]
  },
  {
   "cell_type": "markdown",
   "id": "1f55da21-d513-4fed-9db8-635cb2745d30",
   "metadata": {},
   "source": [
    "### Practice Reduce"
   ]
  },
  {
   "cell_type": "code",
   "execution_count": 11,
   "id": "e35f0391-4eb2-4b54-9960-bf4cb6ccc953",
   "metadata": {},
   "outputs": [],
   "source": [
    "sequence = np.arange(1, 5)"
   ]
  },
  {
   "cell_type": "code",
   "execution_count": 12,
   "id": "d629af37-5751-4573-a810-5f2b15c066a5",
   "metadata": {},
   "outputs": [
    {
     "data": {
      "text/plain": [
       "10"
      ]
     },
     "execution_count": 12,
     "metadata": {},
     "output_type": "execute_result"
    }
   ],
   "source": [
    "reduce((lambda a, b : a + b), sequence)"
   ]
  },
  {
   "cell_type": "markdown",
   "id": "5d077472-c26a-43c0-affc-78a5e0ca0b8f",
   "metadata": {},
   "source": [
    "### Time performance decorator"
   ]
  },
  {
   "cell_type": "code",
   "execution_count": 13,
   "id": "b5842bae-6515-4fb7-8fb7-578e52291ca0",
   "metadata": {},
   "outputs": [],
   "source": [
    "def time_performance(func):\n",
    "    \n",
    "    def inner(*args, **kwargs):\n",
    "        start = time.process_time_ns()\n",
    "        result = func(*args, **kwargs)\n",
    "        time_took = (time.process_time_ns() - start)/1e9\n",
    "        \n",
    "        print(\"Took {} seconds\".format(time_took))\n",
    "        return result\n",
    "        \n",
    "    return inner"
   ]
  },
  {
   "cell_type": "code",
   "execution_count": 14,
   "id": "773aef9a-5adf-4aaa-99b6-3e2be3310ce9",
   "metadata": {},
   "outputs": [],
   "source": [
    "@time_performance\n",
    "def measure_me(n):\n",
    "    total = 0\n",
    "    for i in range(n):\n",
    "        total += i * i\n",
    "\n",
    "    return total"
   ]
  },
  {
   "cell_type": "code",
   "execution_count": 15,
   "id": "574c893d-08fa-4ae9-850d-1cee45b3bcb0",
   "metadata": {},
   "outputs": [
    {
     "name": "stdout",
     "output_type": "stream",
     "text": [
      "Took 3.2e-05 seconds\n"
     ]
    },
    {
     "data": {
      "text/plain": [
       "285"
      ]
     },
     "execution_count": 15,
     "metadata": {},
     "output_type": "execute_result"
    }
   ],
   "source": [
    "\n",
    "measure_me(10)"
   ]
  },
  {
   "cell_type": "code",
   "execution_count": 16,
   "id": "13d3d053-09eb-4e3c-9422-1d553b02c00c",
   "metadata": {},
   "outputs": [],
   "source": [
    "class Variable:\n",
    "    \"\"\"A Variable class\"\"\"\n",
    "    def __init__(self, obj_id):\n",
    "        self.obj_id = obj_id\n",
    "        self.lc = {\n",
    "                   'mjd': np.array([]),\n",
    "                   'mag': np.array([])\n",
    "                  }\n",
    "\n",
    "    def __str__(self):\n",
    "      return str(self.obj_id)\n",
    "\n",
    "    def add_observations(self, mjds, mags, mag_errs=None):\n",
    "        \"\"\"\n",
    "        Adds observations to the light curve.\n",
    "    \n",
    "        Args:\n",
    "          mjds: A vector of Modified Julian Dates (x values).\n",
    "          mags: A vector of luminosities (y values).\n",
    "        \"\"\"\n",
    "\n",
    "        self.convert_to_array(mjds)\n",
    "        self.convert_to_array(mags)\n",
    "        \n",
    "        observation_arrays = [mjds, mags]\n",
    "        \n",
    "        self.lc['mjd'] = np.array(mjds)\n",
    "        self.lc['mag'] = np.array(mags)\n",
    "        if mag_errs is not None:\n",
    "            self.convert_to_array(mag_errs)\n",
    "            observation_arrays.append(mag_errs)\n",
    "            self.lc['mag_errs'] = np.array(mag_errs)\n",
    "\n",
    "        self.compare_len(observation_arrays)\n",
    "\n",
    "        return\n",
    "\n",
    "    def __len__(self):\n",
    "        \"\"\"\n",
    "        Returns length of lightcurve\n",
    "        \"\"\"\n",
    "        return len(self.lc['mjd'])\n",
    "\n",
    "\n",
    "    def convert_to_array(self, var):\n",
    "        if not isinstance(var, np.ndarray):\n",
    "            if isinstance(var, (list, tuple, pd.Series)):\n",
    "                var = np.array(var)\n",
    "            elif isinstance(var, (int, float)):\n",
    "                var = np.array([var])\n",
    "            else:\n",
    "               raise ValueError(\"Data must be array-like, int, or float\")\n",
    "\n",
    "        return var\n",
    "\n",
    "    def compare_len(self, arrays):\n",
    "        for array in arrays:\n",
    "            if len(array) != self.__len__():\n",
    "                raise Exception(\"All observational arrays must have the same length\")\n",
    "                \n",
    "    @property\n",
    "    def mean_mag(self):\n",
    "        return np.mean(self.lc['mags'])"
   ]
  },
  {
   "cell_type": "code",
   "execution_count": 17,
   "id": "e3b42e21-a775-4e10-a6ac-61d7064fb73f",
   "metadata": {},
   "outputs": [
    {
     "name": "stdout",
     "output_type": "stream",
     "text": [
      "44\n"
     ]
    }
   ],
   "source": [
    "obj_id = lc_datasets['lsst']['objectId'].unique()[7]\n",
    "b = 'g'\n",
    "filt_band_obj = (lc_datasets['lsst']['objectId'] == obj_id) & (\n",
    "        lc_datasets['lsst']['band'] == b\n",
    "    )\n",
    "obj_obs = lc_datasets['lsst'][filt_band_obj]\n",
    "star = Variable(obj_id)\n",
    "star.add_observations(obj_obs[time_col],obj_obs[mag_col])\n",
    "print(star.__len__())"
   ]
  },
  {
   "cell_type": "code",
   "execution_count": 18,
   "id": "ea826caf-5e1a-4a08-a141-0d7939e23f71",
   "metadata": {},
   "outputs": [],
   "source": [
    "star.compare_len([star.lc['mjd'], star.lc['mag']])"
   ]
  },
  {
   "cell_type": "code",
   "execution_count": 19,
   "id": "a01a6850-3ba4-4cbe-a239-4c1047e0fc3f",
   "metadata": {},
   "outputs": [
    {
     "data": {
      "text/plain": [
       "True"
      ]
     },
     "execution_count": 19,
     "metadata": {},
     "output_type": "execute_result"
    }
   ],
   "source": [
    "isinstance(obj_obs[mag_col], pd.core.series.Series)"
   ]
  },
  {
   "cell_type": "markdown",
   "id": "9bb2d57c-841e-4e9d-b6b5-8bbc90bf657c",
   "metadata": {},
   "source": [
    "### Practicing Object Oriented Programming"
   ]
  },
  {
   "cell_type": "code",
   "execution_count": 27,
   "id": "f11d9d5e-c249-4594-8195-7ecb7d111e50",
   "metadata": {},
   "outputs": [],
   "source": [
    "survey_test = survey.Survey('data/lsst_RRLyr.pkl')"
   ]
  },
  {
   "cell_type": "code",
   "execution_count": 30,
   "id": "41b87625-0e58-405c-9b28-464c39ee2360",
   "metadata": {},
   "outputs": [],
   "source": [
    "lc = survey_test.get_lc(1251384969897480052, 'u')"
   ]
  },
  {
   "cell_type": "code",
   "execution_count": 35,
   "id": "f19a46a2-7b09-40a5-91bc-32d260ae4317",
   "metadata": {},
   "outputs": [
    {
     "data": {
      "image/png": "[encoded data removed]",
      "text/plain": [
       "<Figure size 700x500 with 1 Axes>"
      ]
     },
     "metadata": {},
     "output_type": "display_data"
    }
   ],
   "source": [
    "plots.plot_lightcurve(lc['mjd'], lc['mag'])"
   ]
  },
  {
   "cell_type": "code",
   "execution_count": null,
   "id": "236b6443-dd09-42f1-9736-ee40a0c5d700",
   "metadata": {},
   "outputs": [],
   "source": []
  }
 ],
 "metadata": {
  "kernelspec": {
   "display_name": "Python 3 (ipykernel)",
   "language": "python",
   "name": "python3"
  },
  "language_info": {
   "codemirror_mode": {
    "name": "ipython",
    "version": 3
   },
   "file_extension": ".py",
   "mimetype": "text/x-python",
   "name": "python",
   "nbconvert_exporter": "python",
   "pygments_lexer": "ipython3",
   "version": "3.8.8"
  }
 },
 "nbformat": 4,
 "nbformat_minor": 5
}
