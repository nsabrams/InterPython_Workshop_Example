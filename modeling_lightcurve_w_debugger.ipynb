{
 "cells": [
  {
   "cell_type": "markdown",
   "id": "054f1690-aad9-4431-b5fb-8b88d95101e5",
   "metadata": {},
   "source": [
    "In this notebook we will load in and model a single lightcurve and making a new function to look at stats."
   ]
  },
  {
   "cell_type": "code",
   "execution_count": 33,
   "id": "87a05ea6-00c2-4427-9b07-d7b0032d1609",
   "metadata": {},
   "outputs": [],
   "source": [
    "import pandas as pd\n",
    "import pandas.testing as pdt\n",
    "import numpy as np\n",
    "import lcanalyzer.models as models"
   ]
  },
  {
   "cell_type": "markdown",
   "id": "4832fff5-f055-4a2b-9603-535517a039dd",
   "metadata": {},
   "source": [
    "### Params"
   ]
  },
  {
   "cell_type": "code",
   "execution_count": 2,
   "id": "03605e48-2223-47bd-973d-35b8b1ca9cbc",
   "metadata": {},
   "outputs": [],
   "source": [
    "# Define the bands names\n",
    "bands = 'ugrizy'\n",
    "\n",
    "# Mag column\n",
    "colname_mag = 'psfMag'"
   ]
  },
  {
   "cell_type": "markdown",
   "id": "0e8a90e0-3988-4bf0-81cc-fc9fa401e4ba",
   "metadata": {},
   "source": [
    "### Load in data"
   ]
  },
  {
   "cell_type": "code",
   "execution_count": 3,
   "id": "70cad4ee-fa63-456c-b733-552e19e2b903",
   "metadata": {},
   "outputs": [],
   "source": [
    "lc_datasets = {}\n",
    "lc_datasets['lsst'] = pd.read_pickle('data/lsst_RRLyr.pkl')"
   ]
  },
  {
   "cell_type": "markdown",
   "id": "3420e512-7e53-4d85-8f64-bc8c40f8aeb9",
   "metadata": {},
   "source": [
    "### Inspect data"
   ]
  },
  {
   "cell_type": "code",
   "execution_count": 4,
   "id": "8478f87d-ba3e-4b20-84e4-252d6a7d2cb8",
   "metadata": {},
   "outputs": [
    {
     "name": "stdout",
     "output_type": "stream",
     "text": [
      "<class 'pandas.core.frame.DataFrame'>\n",
      "RangeIndex: 11177 entries, 0 to 11176\n",
      "Data columns (total 12 columns):\n",
      " #   Column       Non-Null Count  Dtype  \n",
      "---  ------       --------------  -----  \n",
      " 0   band         11177 non-null  object \n",
      " 1   ccdVisitId   11177 non-null  int64  \n",
      " 2   coord_ra     11177 non-null  float64\n",
      " 3   coord_dec    11177 non-null  float64\n",
      " 4   objectId     11177 non-null  int64  \n",
      " 5   psfFlux      11177 non-null  float64\n",
      " 6   psfFluxErr   11177 non-null  float64\n",
      " 7   psfMag       10944 non-null  float64\n",
      " 8   ccdVisitId2  11177 non-null  int64  \n",
      " 9   band2        11177 non-null  object \n",
      " 10  expMidptMJD  11177 non-null  float64\n",
      " 11  zeroPoint    11177 non-null  float32\n",
      "dtypes: float32(1), float64(6), int64(3), object(2)\n",
      "memory usage: 1004.3+ KB\n"
     ]
    }
   ],
   "source": [
    "lc_datasets['lsst'].info()"
   ]
  },
  {
   "cell_type": "code",
   "execution_count": 5,
   "id": "2ce4703b-26fb-4651-a086-92ef9a7fc1a0",
   "metadata": {},
   "outputs": [
    {
     "data": {
      "text/html": [
       "<div>\n",
       "<style scoped>\n",
       "    .dataframe tbody tr th:only-of-type {\n",
       "        vertical-align: middle;\n",
       "    }\n",
       "\n",
       "    .dataframe tbody tr th {\n",
       "        vertical-align: top;\n",
       "    }\n",
       "\n",
       "    .dataframe thead th {\n",
       "        text-align: right;\n",
       "    }\n",
       "</style>\n",
       "<table border=\"1\" class=\"dataframe\">\n",
       "  <thead>\n",
       "    <tr style=\"text-align: right;\">\n",
       "      <th></th>\n",
       "      <th>band</th>\n",
       "      <th>ccdVisitId</th>\n",
       "      <th>coord_ra</th>\n",
       "      <th>coord_dec</th>\n",
       "      <th>objectId</th>\n",
       "      <th>psfFlux</th>\n",
       "      <th>psfFluxErr</th>\n",
       "      <th>psfMag</th>\n",
       "      <th>ccdVisitId2</th>\n",
       "      <th>band2</th>\n",
       "      <th>expMidptMJD</th>\n",
       "      <th>zeroPoint</th>\n",
       "    </tr>\n",
       "  </thead>\n",
       "  <tbody>\n",
       "    <tr>\n",
       "      <th>0</th>\n",
       "      <td>y</td>\n",
       "      <td>1032263018</td>\n",
       "      <td>62.462569</td>\n",
       "      <td>-44.11336</td>\n",
       "      <td>1251384969897480052</td>\n",
       "      <td>-515.183603</td>\n",
       "      <td>1697.218490</td>\n",
       "      <td>NaN</td>\n",
       "      <td>1032263018</td>\n",
       "      <td>y</td>\n",
       "      <td>61100.069706</td>\n",
       "      <td>30.602301</td>\n",
       "    </tr>\n",
       "    <tr>\n",
       "      <th>1</th>\n",
       "      <td>y</td>\n",
       "      <td>1033987172</td>\n",
       "      <td>62.462569</td>\n",
       "      <td>-44.11336</td>\n",
       "      <td>1251384969897480052</td>\n",
       "      <td>3151.738459</td>\n",
       "      <td>1686.955775</td>\n",
       "      <td>22.653625</td>\n",
       "      <td>1033987172</td>\n",
       "      <td>y</td>\n",
       "      <td>61102.068464</td>\n",
       "      <td>30.606100</td>\n",
       "    </tr>\n",
       "    <tr>\n",
       "      <th>2</th>\n",
       "      <td>u</td>\n",
       "      <td>675163080</td>\n",
       "      <td>62.462569</td>\n",
       "      <td>-44.11336</td>\n",
       "      <td>1251384969897480052</td>\n",
       "      <td>183.449123</td>\n",
       "      <td>209.242045</td>\n",
       "      <td>25.741211</td>\n",
       "      <td>675163080</td>\n",
       "      <td>u</td>\n",
       "      <td>60582.247144</td>\n",
       "      <td>30.469101</td>\n",
       "    </tr>\n",
       "    <tr>\n",
       "      <th>3</th>\n",
       "      <td>y</td>\n",
       "      <td>443055067</td>\n",
       "      <td>62.462569</td>\n",
       "      <td>-44.11336</td>\n",
       "      <td>1251384969897480052</td>\n",
       "      <td>-704.848327</td>\n",
       "      <td>1624.400086</td>\n",
       "      <td>NaN</td>\n",
       "      <td>443055067</td>\n",
       "      <td>y</td>\n",
       "      <td>60215.203585</td>\n",
       "      <td>30.612801</td>\n",
       "    </tr>\n",
       "    <tr>\n",
       "      <th>4</th>\n",
       "      <td>u</td>\n",
       "      <td>466722002</td>\n",
       "      <td>62.462569</td>\n",
       "      <td>-44.11336</td>\n",
       "      <td>1251384969897480052</td>\n",
       "      <td>382.472233</td>\n",
       "      <td>278.926670</td>\n",
       "      <td>24.943500</td>\n",
       "      <td>466722002</td>\n",
       "      <td>u</td>\n",
       "      <td>60261.078221</td>\n",
       "      <td>30.461201</td>\n",
       "    </tr>\n",
       "  </tbody>\n",
       "</table>\n",
       "</div>"
      ],
      "text/plain": [
       "  band  ccdVisitId   coord_ra  coord_dec             objectId      psfFlux  \\\n",
       "0    y  1032263018  62.462569  -44.11336  1251384969897480052  -515.183603   \n",
       "1    y  1033987172  62.462569  -44.11336  1251384969897480052  3151.738459   \n",
       "2    u   675163080  62.462569  -44.11336  1251384969897480052   183.449123   \n",
       "3    y   443055067  62.462569  -44.11336  1251384969897480052  -704.848327   \n",
       "4    u   466722002  62.462569  -44.11336  1251384969897480052   382.472233   \n",
       "\n",
       "    psfFluxErr     psfMag  ccdVisitId2 band2   expMidptMJD  zeroPoint  \n",
       "0  1697.218490        NaN   1032263018     y  61100.069706  30.602301  \n",
       "1  1686.955775  22.653625   1033987172     y  61102.068464  30.606100  \n",
       "2   209.242045  25.741211    675163080     u  60582.247144  30.469101  \n",
       "3  1624.400086        NaN    443055067     y  60215.203585  30.612801  \n",
       "4   278.926670  24.943500    466722002     u  60261.078221  30.461201  "
      ]
     },
     "execution_count": 5,
     "metadata": {},
     "output_type": "execute_result"
    }
   ],
   "source": [
    "lc_datasets['lsst'].head()"
   ]
  },
  {
   "cell_type": "markdown",
   "id": "78d32935-98a3-4fe9-992b-3df7dc1caac8",
   "metadata": {},
   "source": [
    "### Select and prep single lightcurve"
   ]
  },
  {
   "cell_type": "code",
   "execution_count": 6,
   "id": "1cb257fa-d0da-4efc-ba52-04fd651f47c2",
   "metadata": {},
   "outputs": [],
   "source": [
    "### Pick an object\n",
    "obj_id = lc_datasets['lsst']['objectId'].unique()[4]"
   ]
  },
  {
   "cell_type": "code",
   "execution_count": 7,
   "id": "16398f69-6e1e-45ca-b530-5aa3e0a89c42",
   "metadata": {},
   "outputs": [],
   "source": [
    "### Get all the observations for this obj_id for each band\n",
    "# Create an empty dict\n",
    "lc = {}\n",
    "# For each band create a bool array that indicates\n",
    "# that this observation belongs to a certain object and is made in a\n",
    "# certain band\n",
    "for b in bands:\n",
    "    filt_band_obj = (lc_datasets['lsst']['objectId'] == obj_id) & (\n",
    "        lc_datasets['lsst']['band'] == b\n",
    "    )\n",
    "    # Select the observations and store in the dict 'lc'\n",
    "    lc[b] = lc_datasets['lsst'][filt_band_obj]"
   ]
  },
  {
   "cell_type": "markdown",
   "id": "c6227955-4a37-4e56-a1ac-c59f67874beb",
   "metadata": {},
   "source": [
    "### Finding lightcurve params"
   ]
  },
  {
   "cell_type": "code",
   "execution_count": 8,
   "id": "03786b36-7dea-46ed-8d32-6515042a8433",
   "metadata": {},
   "outputs": [
    {
     "data": {
      "text/plain": [
       "19.183367224358136"
      ]
     },
     "execution_count": 8,
     "metadata": {},
     "output_type": "execute_result"
    }
   ],
   "source": [
    "models.max_mag(lc['g'], colname_mag)"
   ]
  },
  {
   "cell_type": "markdown",
   "id": "1d8a2c2c-3423-4a40-9251-53572fb88da0",
   "metadata": {},
   "source": [
    "### New calc stats function"
   ]
  },
  {
   "cell_type": "code",
   "execution_count": 36,
   "id": "f9fc4a65-b9f3-4f91-994b-c83f93dfc95c",
   "metadata": {},
   "outputs": [],
   "source": [
    "def calc_stats(lc, bands, mag_col):\n",
    "    # Calculate max, mean and min values for all bands of a light curve\n",
    "    stats = {}\n",
    "    for b in bands:\n",
    "        stat = {}\n",
    "        stat[\"max\"] = models.max_mag(lc[b], mag_col)\n",
    "        stat[\"mean\"] = models.mean_mag(lc[b], mag_col)\n",
    "        stat[\"min\"] = models.min_mag(lc[b], mag_col)\n",
    "        stats[b] = stat\n",
    "    return pd.DataFrame.from_records(stats)"
   ]
  },
  {
   "cell_type": "code",
   "execution_count": 22,
   "id": "4c1e2959-1d5a-4b30-af8e-20c8765f195a",
   "metadata": {},
   "outputs": [
    {
     "name": "stdout",
     "output_type": "stream",
     "text": [
      "   a  b  c\n",
      "0  5  0  3\n",
      "1  3  7  9\n",
      "2  3  5  2\n",
      "3  4  7  6\n",
      "   a  b  c\n",
      "0  5  8  9\n",
      "1  5  0  0\n",
      "2  1  7  6\n",
      "3  9  2  4\n",
      "   a  b  c\n",
      "0  8  8  6\n",
      "1  2  8  7\n",
      "2  2  1  5\n",
      "3  4  4  5\n"
     ]
    }
   ],
   "source": [
    "size = (4,3)\n",
    "np.random.seed(0)\n",
    "df1 = pd.DataFrame(data=np.random.randint(0, 10, size), columns=list(\"abc\"))\n",
    "np.random.seed(1)\n",
    "df2 = pd.DataFrame(data=np.random.randint(0, 10, size), columns=list(\"abc\"))\n",
    "np.random.seed(2)\n",
    "df3 = pd.DataFrame(data=np.random.randint(0, 10, size), columns=list(\"abc\"))\n",
    "print(df1)\n",
    "print(df2)\n",
    "print(df3)"
   ]
  },
  {
   "cell_type": "code",
   "execution_count": 29,
   "id": "1be4aac3-120e-485d-9088-468cab0946e6",
   "metadata": {},
   "outputs": [],
   "source": [
    "test_input = {\"df1\": df1, \"df2\": df2, \"df3\": df3}"
   ]
  },
  {
   "cell_type": "code",
   "execution_count": 31,
   "id": "c67b6266-e674-48c9-b400-549933674846",
   "metadata": {},
   "outputs": [],
   "source": [
    "test_output = pd.DataFrame(data=[[7,8,8],[4.75,4.25,5.25],[0,0,1]],columns=['df1','df2','df3'],index=['max','mean','min'])"
   ]
  },
  {
   "cell_type": "code",
   "execution_count": 37,
   "id": "ea939836-6cc5-4586-95c6-c95d16f421d8",
   "metadata": {},
   "outputs": [],
   "source": [
    "pdt.assert_frame_equal(calc_stats(test_input, [\"df1\", \"df2\", \"df3\"], \"b\"),\n",
    "                       test_output,\n",
    "                       check_exact=False,\n",
    "                       atol=0.01)\n",
    "                       "
   ]
  },
  {
   "cell_type": "code",
   "execution_count": null,
   "id": "c198e064-0b02-4539-af3a-6af8e1cc5cf0",
   "metadata": {},
   "outputs": [],
   "source": []
  }
 ],
 "metadata": {
  "kernelspec": {
   "display_name": "Python 3 (ipykernel)",
   "language": "python",
   "name": "python3"
  },
  "language_info": {
   "codemirror_mode": {
    "name": "ipython",
    "version": 3
   },
   "file_extension": ".py",
   "mimetype": "text/x-python",
   "name": "python",
   "nbconvert_exporter": "python",
   "pygments_lexer": "ipython3",
   "version": "3.8.8"
  }
 },
 "nbformat": 4,
 "nbformat_minor": 5
}
